{
 "cells": [
  {
   "cell_type": "code",
   "execution_count": 1,
   "metadata": {},
   "outputs": [],
   "source": [
    "import cv2\n",
    "import numpy as np"
   ]
  },
  {
   "cell_type": "code",
   "execution_count": 9,
   "metadata": {},
   "outputs": [],
   "source": [
    "# Lines\n",
    "# cv2.line(image, (initial coordinates), (final coordinates), (color), thickness)\n",
    "image = np.zeros((900, 900, 3), np.uint8)\n",
    "cv2.line(image, (0,0), (200, 200), (0, 255, 0), 5)\n",
    "cv2.line(image, (0,0), (200, 400), (255, 0, 0), 5)\n",
    "cv2.imshow(\"image with line\", image)\n",
    "cv2.waitKey(2000)\n",
    "cv2.destroyWindow(\"image with line\")"
   ]
  },
  {
   "cell_type": "code",
   "execution_count": 14,
   "metadata": {},
   "outputs": [],
   "source": [
    "# Rectangle\n",
    "# cv2.rectangle(image, (top left coordinate), (bottom right coordinate), (color), thickness)\n",
    "image = np.zeros((900, 900, 3), np.uint8)\n",
    "cv2.rectangle(image, (100, 100), (200, 200), (255, 255, 0), 2)\n",
    "cv2.imshow(\"image with rectangle\", image)\n",
    "cv2.waitKey(2000)\n",
    "cv2.destroyWindow(\"image with rectangle\")"
   ]
  },
  {
   "cell_type": "code",
   "execution_count": 15,
   "metadata": {},
   "outputs": [],
   "source": [
    "# circle\n",
    "# cv2.circle(image, (center coordinate), radius, (color), thickness)\n",
    "image = np.zeros((900, 900, 3), np.uint8)\n",
    "cv2.circle(image, (500, 500), 200, (255, 150, 50), 5)\n",
    "cv2.imshow(\"image with rectangle\", image)\n",
    "cv2.waitKey(2000)\n",
    "cv2.destroyWindow(\"image with rectangle\")"
   ]
  },
  {
   "cell_type": "code",
   "execution_count": 21,
   "metadata": {},
   "outputs": [],
   "source": [
    "# ellipse\n",
    "# cv2.ellipse(image, (center coordinates), (axeslength), EllipseRotationAngleDegree, startAngle, endAngle, color, thickness, linetype, shift)\n",
    "image = np.zeros((900, 900, 3), np.uint8)\n",
    "cv2.ellipse(image, (500, 500), (200, 200), 45, 0, 270, (255, 0, 255), -1)\n",
    "cv2.imshow(\"image with rectangle\", image)\n",
    "cv2.waitKey(2000)\n",
    "cv2.destroyWindow(\"image with rectangle\")"
   ]
  },
  {
   "cell_type": "code",
   "execution_count": 34,
   "metadata": {},
   "outputs": [],
   "source": [
    "# Ployline\n",
    "# cv2.polyline(image, [[[[pt1]],[[pt2]],[[pt3]]]], True = polygone/False = polyline, color, thickness)\n",
    "image = np.zeros((900, 900, 3), np.uint8)\n",
    "pts = np.array([[100, 50], [200, 300], [700, 200], [500, 100]], np.int32)\n",
    "pts = np.reshape(pts, (-1, 1, 2))\n",
    "cv2.polylines(image, [pts], True, (0, 255, 0), 5)\n",
    "cv2.imshow(\"image with rectangle\", image)\n",
    "cv2.waitKey(2000)\n",
    "cv2.destroyWindow(\"image with rectangle\")"
   ]
  },
  {
   "cell_type": "code",
   "execution_count": 38,
   "metadata": {},
   "outputs": [],
   "source": [
    "# Text within image\n",
    "# cv2.putText(image, \"Text\", BottomLeftCoordinate, cv2.FONT_*, font_size, (color), thickness, cv2.LINE_AA)\n",
    "image = np.zeros((900, 900, 3), np.uint8)\n",
    "cv2.putText(image, \"Sample Text\", (500, 500), cv2.FONT_HERSHEY_SIMPLEX, 1, (0, 255, 255), 3, cv2.LINE_AA)\n",
    "cv2.imshow(\"image with rectangle\", image)\n",
    "cv2.waitKey(2000)\n",
    "cv2.destroyWindow(\"image with rectangle\")"
   ]
  },
  {
   "cell_type": "code",
   "execution_count": 84,
   "metadata": {},
   "outputs": [],
   "source": [
    "# ## creating opencv logo in opencv\n",
    "# radius_inside = 50\n",
    "# radius_outside = 150\n",
    "# image = np.full((700, 700, 3), 255, np.uint8)\n",
    "# # cv2.ellipse(image, (300, 150), (150, 150), 0, 0, 270, (0, 0, 255), -1)\n",
    "# # cv2.ellipse(image, (150, 300), (150, 150), 0, 0, 270, (0, 255, 0), -1)\n",
    "# # cv2.ellipse(image, (450, 300), (150, 150), 0, 0, 270, (255, 0, 0), -1)\n",
    "# cv2.circle(image, (350, 125), 150, (0, 0, 255), -1)\n",
    "# cv2.circle(image, (150, 350), 150, (0, 255, 0), -1)\n",
    "# cv2.circle(image, (550, 350), 150, (255, 0, 0), -1)\n",
    "# cv2.putText(image, \"OpenCV\", (0, 650), cv2.FONT_HERSHEY_SIMPLEX, 6, (0, 0, 0), 10, cv2.LINE_AA)\n",
    "# cv2.imshow(\"OpenCV logo\", image)\n",
    "# cv2.waitKey(0)\n",
    "# cv2.destroyAllWindows()"
   ]
  },
  {
   "cell_type": "code",
   "execution_count": null,
   "metadata": {},
   "outputs": [],
   "source": []
  },
  {
   "cell_type": "code",
   "execution_count": null,
   "metadata": {},
   "outputs": [],
   "source": []
  }
 ],
 "metadata": {
  "kernelspec": {
   "display_name": "Python 3",
   "language": "python3",
   "name": "python3"
  },
  "language_info": {
   "codemirror_mode": {
    "name": "ipython",
    "version": 3
   },
   "file_extension": ".py",
   "mimetype": "text/x-python",
   "name": "python",
   "nbconvert_exporter": "python",
   "pygments_lexer": "ipython3",
   "version": "3.6.8"
  }
 },
 "nbformat": 4,
 "nbformat_minor": 2
}
