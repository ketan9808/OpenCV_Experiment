{
 "cells": [
  {
   "cell_type": "code",
   "execution_count": 1,
   "metadata": {},
   "outputs": [],
   "source": [
    "import cv2\n",
    "import numpy as np"
   ]
  },
  {
   "cell_type": "code",
   "execution_count": 2,
   "metadata": {},
   "outputs": [],
   "source": [
    "def nothing(x):\n",
    "    pass"
   ]
  },
  {
   "cell_type": "code",
   "execution_count": 4,
   "metadata": {},
   "outputs": [],
   "source": [
    "img = np.zeros((300, 512, 3), np.uint8)\n",
    "cv2.namedWindow(\"sandbox\")\n",
    "\n",
    "cv2.createTrackbar('r', 'sandbox', 0, 255, nothing)\n",
    "cv2.createTrackbar('g', 'sandbox', 0, 255, nothing)\n",
    "cv2.createTrackbar('b', 'sandbox', 0, 255, nothing)\n",
    "\n",
    "switch = '1 - ON\\n0 - OFF'\n",
    "cv2.createTrackbar(switch, \"sandbox\", 0, 1, nothing)\n",
    "\n",
    "while 1:\n",
    "    cv2.imshow(\"sandbox\", img)\n",
    "    k = cv2.waitKey(2) & 0xFF\n",
    "    \n",
    "    if k == ord('q'):\n",
    "        break\n",
    "        \n",
    "    r = cv2.getTrackbarPos('r', 'sandbox')\n",
    "    g = cv2.getTrackbarPos('g', 'sandbox')\n",
    "    b = cv2.getTrackbarPos('b', 'sandbox')\n",
    "    s = cv2.getTrackbarPos(switch, 'sandbox')\n",
    "    \n",
    "    if s == 0:\n",
    "        img[:] = 0\n",
    "    else:\n",
    "        img[:] = [b, g, r]\n",
    "\n",
    "cv2.destroyAllWindows()"
   ]
  },
  {
   "cell_type": "code",
   "execution_count": null,
   "metadata": {},
   "outputs": [],
   "source": []
  }
 ],
 "metadata": {
  "kernelspec": {
   "display_name": "Python 3",
   "language": "python3",
   "name": "python3"
  },
  "language_info": {
   "codemirror_mode": {
    "name": "ipython",
    "version": 3
   },
   "file_extension": ".py",
   "mimetype": "text/x-python",
   "name": "python",
   "nbconvert_exporter": "python",
   "pygments_lexer": "ipython3",
   "version": "3.6.8"
  }
 },
 "nbformat": 4,
 "nbformat_minor": 2
}
