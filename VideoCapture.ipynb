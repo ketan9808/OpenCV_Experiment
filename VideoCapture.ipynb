{
 "cells": [
  {
   "cell_type": "code",
   "execution_count": 1,
   "metadata": {},
   "outputs": [],
   "source": [
    "# playing with VideoCapture()\n",
    "import cv2\n",
    "import numpy as np"
   ]
  },
  {
   "cell_type": "code",
   "execution_count": 2,
   "metadata": {},
   "outputs": [],
   "source": [
    "source = 0\n",
    "# Here the source can be anything like number, IP address, path to video file, etc.\n",
    "# If number it correspond to camera attached to computer, 0 means default camera\n",
    "# if you are using streaming server you can use IP address to get the live feed from the camera\n",
    "# if you are streaming video from file use cv2.waitKey(25).\n",
    "\n",
    "cam = cv2.VideoCapture(source)"
   ]
  },
  {
   "cell_type": "code",
   "execution_count": 3,
   "metadata": {},
   "outputs": [
    {
     "name": "stdout",
     "output_type": "stream",
     "text": [
      "content of cam:  False output of .isOpened():  True\n"
     ]
    }
   ],
   "source": [
    "# to check whether camera is open or not\n",
    "print(\"content of cam: \",cam == None, \"output of .isOpened(): \", cam.isOpened())\n",
    "# if the camera is not opened then to forcefully open camera use the following command\n",
    "# cam.open()"
   ]
  },
  {
   "cell_type": "code",
   "execution_count": 4,
   "metadata": {},
   "outputs": [],
   "source": [
    "# access and alter camera properties.\n",
    "# property id (propId) varies from 0 to 18\n",
    "# To get property use cam.get(propId)\n",
    "# to set property use cam.set(propId, value)"
   ]
  },
  {
   "cell_type": "code",
   "execution_count": 5,
   "metadata": {},
   "outputs": [],
   "source": [
    "pids = {0: 'timestamp',\n",
    "        1: \"frame\\\\'s index\",\n",
    "        2: 'relative position',\n",
    "        3: 'width',\n",
    "        4: 'height',\n",
    "        5: 'FPS',\n",
    "        6: 'codec',\n",
    "        7: 'frame count',\n",
    "        8: 'Format of the Mat objects returned by retrieve()',\n",
    "        9: 'Backend-specific value indicating the current capture mode',\n",
    "        10: 'brightness',\n",
    "        11: 'contrast',\n",
    "        12: 'saturation',\n",
    "        13: 'Hue',\n",
    "        14: 'Gain',\n",
    "        15: 'Exposure',\n",
    "        16: 'image should be converted to RGB',\n",
    "        17: 'u value',\n",
    "        18: 'v value',\n",
    "        19: 'rectification flag',\n",
    "        20: 'ISO speed',\n",
    "        21: 'amount of frames stored in internal buffer'}"
   ]
  },
  {
   "cell_type": "code",
   "execution_count": 6,
   "metadata": {},
   "outputs": [],
   "source": [
    "import pandas as pd"
   ]
  },
  {
   "cell_type": "code",
   "execution_count": 7,
   "metadata": {},
   "outputs": [
    {
     "name": "stdout",
     "output_type": "stream",
     "text": [
      "camera was already opened\n"
     ]
    }
   ],
   "source": [
    "cam.set(5, 20)\n",
    "if cam == None or cam.isOpened() == False:\n",
    "    try:\n",
    "        cam.open()\n",
    "        print(\"try executed.\")\n",
    "    except:\n",
    "        cam = cv2.VideoCapture(0)\n",
    "        print(\"except executed\")\n",
    "else:\n",
    "    print(\"camera was already opened\")\n",
    "while 1:\n",
    "    ok, frame = cam.read()\n",
    "    if ok:\n",
    "        cv2.putText(frame, \"FPS:\"+str(cam.get(5)), (500, 50), cv2.FONT_HERSHEY_SIMPLEX, 1, (0, 0, 255), 1, cv2.LINE_AA )\n",
    "        cv2.imshow(\"live feed:\", frame)\n",
    "        k = cv2.waitKey(2) & 0xff\n",
    "        if k == ord('i'):\n",
    "            cam.set(5, 20)\n",
    "        elif k == ord(\"q\"):\n",
    "            cam.release()\n",
    "            cv2.destroyAllWindows()\n",
    "            break"
   ]
  },
  {
   "cell_type": "code",
   "execution_count": null,
   "metadata": {},
   "outputs": [],
   "source": []
  }
 ],
 "metadata": {
  "kernelspec": {
   "display_name": "Python 3",
   "language": "python3",
   "name": "python3"
  },
  "language_info": {
   "codemirror_mode": {
    "name": "ipython",
    "version": 3
   },
   "file_extension": ".py",
   "mimetype": "text/x-python",
   "name": "python",
   "nbconvert_exporter": "python",
   "pygments_lexer": "ipython3",
   "version": "3.6.8"
  }
 },
 "nbformat": 4,
 "nbformat_minor": 2
}
