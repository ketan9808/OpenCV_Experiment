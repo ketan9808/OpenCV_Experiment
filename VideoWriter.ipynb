{
 "cells": [
  {
   "cell_type": "code",
   "execution_count": 2,
   "metadata": {},
   "outputs": [],
   "source": [
    "import cv2\n",
    "import numpy as np"
   ]
  },
  {
   "cell_type": "code",
   "execution_count": 3,
   "metadata": {},
   "outputs": [],
   "source": [
    "# this program illustrate how to use cv2.VideoWriter to create videos using frames in opencv\n",
    "# cv2.VideoWriter(\"filename.avi\", codecobject, FPS, (frame size))\n",
    "\n",
    "# codec object\n",
    "ccobj = cv2.VideoWriter_fourcc(*'MJPG') # or('M','J','P','G')\n",
    "# video Writer\n",
    "writer = cv2.VideoWriter(\"test.avi\", ccobj, 20.0, (640, 480))\n",
    "\n",
    "cam = cv2.VideoCapture(0)\n",
    "\n",
    "if cam == None or cam.isOpened() == False:\n",
    "    print(\"can not open the camera: 0\")\n",
    "\n",
    "while 1:\n",
    "    ok, frame = cam.read()\n",
    "    if ok:\n",
    "        writer.write(frame)\n",
    "        cv2.imshow(\"live image\", frame)\n",
    "        if cv2.waitKey(2) & 0xff == ord(\"q\"):\n",
    "            cam.release()\n",
    "            writer.release()\n",
    "            cv2.destroyAllWindows()\n",
    "            break"
   ]
  },
  {
   "cell_type": "code",
   "execution_count": null,
   "metadata": {},
   "outputs": [],
   "source": []
  }
 ],
 "metadata": {
  "kernelspec": {
   "display_name": "Python 3",
   "language": "python3",
   "name": "python3"
  },
  "language_info": {
   "codemirror_mode": {
    "name": "ipython",
    "version": 3
   },
   "file_extension": ".py",
   "mimetype": "text/x-python",
   "name": "python",
   "nbconvert_exporter": "python",
   "pygments_lexer": "ipython3",
   "version": "3.6.8"
  }
 },
 "nbformat": 4,
 "nbformat_minor": 2
}
