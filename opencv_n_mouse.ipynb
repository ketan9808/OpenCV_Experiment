{
 "cells": [
  {
   "cell_type": "markdown",
   "metadata": {},
   "source": [
    "# opencv and mouse callbacks\n",
    "This program illustrate the use of following:\n",
    "- cv2.setMouseCallback() \\# mouse callback object.\n",
    "- cv2.EVENT_* \\# different mouse click events.\n",
    "\n",
    "## different mouse events.\n",
    "- cv2.EVENT_FLAG_ALTKEY\n",
    "- cv2.EVENT_FLAG_CTRLKEY\n",
    "- cv2.EVENT_FLAG_LBUTTON\n",
    "- cv2.EVENT_FLAG_MBUTTON\n",
    "- cv2.EVENT_FLAG_RBUTTON\n",
    "- cv2.EVENT_FLAG_SHIFTKEY\n",
    "- cv2.EVENT_LBUTTONDBLCLK\n",
    "- cv2.EVENT_LBUTTONDOWN\n",
    "- cv2.EVENT_LBUTTONUP\n",
    "- cv2.EVENT_MBUTTONDBLCLK\n",
    "- cv2.EVENT_MBUTTONDOWN\n",
    "- cv2.EVENT_MBUTTONUP\n",
    "- cv2.EVENT_RBUTTONDBLCLK\n",
    "- cv2.EVENT_RBUTTONDOWN\n",
    "- cv2.EVENT_RBUTTONUP\n",
    "- cv2.EVENT_MOUSEHWHEEL\n",
    "- cv2.EVENT_MOUSEWHEEL\n",
    "- cv2.EVENT_MOUSEMOVE\n",
    "\n",
    "\n",
    "## some screenshots."
   ]
  },
  {
   "cell_type": "markdown",
   "metadata": {},
   "source": [
    "### program 1"
   ]
  },
  {
   "cell_type": "code",
   "execution_count": null,
   "metadata": {},
   "outputs": [],
   "source": [
    "import cv2\n",
    "import numpy as np"
   ]
  },
  {
   "cell_type": "code",
   "execution_count": null,
   "metadata": {},
   "outputs": [],
   "source": [
    "def draw_circle(event, x, y, flags, param):\n",
    "    if event == cv2.EVENT_LBUTTONDBLCLK: \n",
    "        cv2.circle(img, (x, y), 50, (255, 0, 0), -1)"
   ]
  },
  {
   "cell_type": "code",
   "execution_count": null,
   "metadata": {},
   "outputs": [],
   "source": [
    "img = np.zeros((512, 512, 3), np.uint8)\n",
    "cv2.namedWindow('image')\n",
    "cv2.setMouseCallback('image', draw_circle)\n",
    "\n",
    "while 1:\n",
    "    cv2.imshow('image', img)\n",
    "    if cv2.waitKey(20) & 0xff == ord('q'):\n",
    "        break\n",
    "cv2.destroyAllWindows()"
   ]
  },
  {
   "cell_type": "markdown",
   "metadata": {},
   "source": [
    "### program 2"
   ]
  },
  {
   "cell_type": "code",
   "execution_count": null,
   "metadata": {},
   "outputs": [],
   "source": [
    "drawing = False\n",
    "mode = True\n",
    "ix, iy = -1, -1"
   ]
  },
  {
   "cell_type": "code",
   "execution_count": null,
   "metadata": {},
   "outputs": [],
   "source": [
    "def draw_fxn(event, x, y, flag, param):\n",
    "    global ix, iy, drawing, mode\n",
    "    \n",
    "    if event == cv2.EVENT_LBUTTONDOWN:\n",
    "        drawing = True\n",
    "        ix, iy = x, y\n",
    "        \n",
    "    elif event == cv2.EVENT_MOUSEMOVE:\n",
    "        if drawing == True:\n",
    "            if mode == True:\n",
    "                cv2.rectangle(img, (ix, iy), (x, y), (0, 255, 0), -1)\n",
    "            else:\n",
    "                cv2.circle(img, (x, y), 50, (0,0,255), -1)\n",
    "                \n",
    "    elif event == cv2.EVENT_LBUTTONUP:\n",
    "        drawing = False\n",
    "        if mode == True:\n",
    "            cv2.rectangle(img, (ix, iy), (x,y), (0, 255, 0), -1)\n",
    "        else:\n",
    "            cv2.circle(img, (x, y), 5, (0, 0, 255), -1)"
   ]
  },
  {
   "cell_type": "code",
   "execution_count": null,
   "metadata": {},
   "outputs": [],
   "source": [
    "img = np.zeros((512, 512, 3), np.uint8)\n",
    "cv2.namedWindow(\"image\")\n",
    "cv2.setMouseCallback(\"image\", draw_fxn)\n",
    "\n",
    "while 1:\n",
    "    cv2.imshow(\"image\", img)\n",
    "    k = cv2.waitKey(5)\n",
    "    if k & 0xff == ord('m'):\n",
    "        mode = not mode\n",
    "    elif k & 0xff == ord('q'):\n",
    "        break\n",
    "cv2.destroyAllWindows()"
   ]
  },
  {
   "cell_type": "markdown",
   "metadata": {},
   "source": [
    "## program 3\n",
    "this program will capture one image and wait for your right double clicks and at last draw a polygone out of it"
   ]
  },
  {
   "cell_type": "code",
   "execution_count": null,
   "metadata": {},
   "outputs": [],
   "source": [
    "coordinates = []\n",
    "def on_pressed(event, x, y, flags, param):\n",
    "    global coordinates\n",
    "    if event == cv2.EVENT_LBUTTONDBLCLK:\n",
    "        coordinates.append([x, y])\n",
    "\n",
    "cap = cv2.VideoCapture(0)\n",
    "ok, image = cap.read()\n",
    "if ok:\n",
    "    cv2.namedWindow(\"face_image\")\n",
    "    mouse = cv2.setMouseCallback('face_image',on_pressed)\n",
    "    while 1:\n",
    "        cv2.imshow('face_image', image)\n",
    "        k = cv2.waitKey(5)\n",
    "        if k & 0xff == ord('q'):\n",
    "            break\n",
    "cv2.destroyWindow(\"face_image\")\n",
    "coordinates = np.array(coordinates, np.int32)\n",
    "coordinates = coordinates.reshape((-1, 1, 2))\n",
    "image = cv2.polylines(image, [coordinates], True, (255, 255, 0))\n",
    "\n",
    "cv2.imshow('final image', image)\n",
    "k = cv2.waitKey(0)\n",
    "cv2.destroyAllWindows()\n",
    "cap.release()"
   ]
  },
  {
   "cell_type": "code",
   "execution_count": null,
   "metadata": {},
   "outputs": [],
   "source": []
  }
 ],
 "metadata": {
  "kernelspec": {
   "display_name": "Python 3",
   "language": "python3",
   "name": "python3"
  },
  "language_info": {
   "codemirror_mode": {
    "name": "ipython",
    "version": 3
   },
   "file_extension": ".py",
   "mimetype": "text/x-python",
   "name": "python",
   "nbconvert_exporter": "python",
   "pygments_lexer": "ipython3",
   "version": "3.6.8"
  }
 },
 "nbformat": 4,
 "nbformat_minor": 2
}
